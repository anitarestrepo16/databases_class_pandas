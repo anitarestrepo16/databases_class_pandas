{
 "cells": [
  {
   "cell_type": "code",
   "execution_count": 3,
   "metadata": {},
   "outputs": [],
   "source": [
    "import pandas as pd\n",
    "import numpy as np"
   ]
  },
  {
   "cell_type": "code",
   "execution_count": 19,
   "metadata": {},
   "outputs": [],
   "source": [
    "df2010 = pd.read_csv('Data/s2010.tdf', sep='\\t', engine='python', names=['symb', 'retdate', 'opn', 'high', 'low','cls', 'vol', 'exch'], parse_dates = ['retdate'])\n",
    "df2011 = pd.read_csv( 'Data/s2011.tdf',sep='\\t', engine='python', names=['symb', 'retdate', 'opn', 'high', 'low','cls', 'vol', 'exch'], parse_dates = ['retdate'])\n",
    "dffnd = pd.read_csv( 'Data/fnd.tdf',sep='\\t', engine='python', names=['gvkey', 'datadate', 'fyear', 'indfmr','consol', 'popsrc', 'datafmt' , 'tic', 'cusip', 'conm', 'fyr', 'cash', 'dp','ebitda', 'emp', 'invt', 'netinc', 'ppent', 'rev' , 'ui', 'cik'])"
   ]
  },
  {
   "cell_type": "code",
   "execution_count": 20,
   "metadata": {},
   "outputs": [
    {
     "data": {
      "text/plain": [
       "symb               object\n",
       "retdate    datetime64[ns]\n",
       "opn               float64\n",
       "high              float64\n",
       "low               float64\n",
       "cls               float64\n",
       "vol                 int64\n",
       "exch               object\n",
       "dtype: object"
      ]
     },
     "execution_count": 20,
     "metadata": {},
     "output_type": "execute_result"
    }
   ],
   "source": [
    "df2010.dtypes"
   ]
  },
  {
   "attachments": {},
   "cell_type": "markdown",
   "metadata": {},
   "source": [
    "# First Five  "
   ]
  },
  {
   "attachments": {},
   "cell_type": "markdown",
   "metadata": {},
   "source": [
    "1. All columns relating to AAPL.  "
   ]
  },
  {
   "cell_type": "code",
   "execution_count": 21,
   "metadata": {},
   "outputs": [
    {
     "data": {
      "text/html": [
       "<div>\n",
       "<style scoped>\n",
       "    .dataframe tbody tr th:only-of-type {\n",
       "        vertical-align: middle;\n",
       "    }\n",
       "\n",
       "    .dataframe tbody tr th {\n",
       "        vertical-align: top;\n",
       "    }\n",
       "\n",
       "    .dataframe thead th {\n",
       "        text-align: right;\n",
       "    }\n",
       "</style>\n",
       "<table border=\"1\" class=\"dataframe\">\n",
       "  <thead>\n",
       "    <tr style=\"text-align: right;\">\n",
       "      <th></th>\n",
       "      <th>symb</th>\n",
       "      <th>retdate</th>\n",
       "      <th>opn</th>\n",
       "      <th>high</th>\n",
       "      <th>low</th>\n",
       "      <th>cls</th>\n",
       "      <th>vol</th>\n",
       "      <th>exch</th>\n",
       "    </tr>\n",
       "  </thead>\n",
       "  <tbody>\n",
       "    <tr>\n",
       "      <th>2</th>\n",
       "      <td>AAPL</td>\n",
       "      <td>2010-04-07</td>\n",
       "      <td>34.2457</td>\n",
       "      <td>34.5600</td>\n",
       "      <td>34.0943</td>\n",
       "      <td>34.3714</td>\n",
       "      <td>22446400</td>\n",
       "      <td>NASDAQ</td>\n",
       "    </tr>\n",
       "    <tr>\n",
       "      <th>1413</th>\n",
       "      <td>AAPL</td>\n",
       "      <td>2010-04-13</td>\n",
       "      <td>34.5514</td>\n",
       "      <td>34.6857</td>\n",
       "      <td>34.4443</td>\n",
       "      <td>34.6329</td>\n",
       "      <td>10936000</td>\n",
       "      <td>NASDAQ</td>\n",
       "    </tr>\n",
       "    <tr>\n",
       "      <th>2826</th>\n",
       "      <td>AAPL</td>\n",
       "      <td>2010-06-11</td>\n",
       "      <td>35.4614</td>\n",
       "      <td>36.2657</td>\n",
       "      <td>35.3386</td>\n",
       "      <td>36.2157</td>\n",
       "      <td>19491400</td>\n",
       "      <td>NASDAQ</td>\n",
       "    </tr>\n",
       "    <tr>\n",
       "      <th>4260</th>\n",
       "      <td>AAPL</td>\n",
       "      <td>2010-11-23</td>\n",
       "      <td>44.3500</td>\n",
       "      <td>44.5357</td>\n",
       "      <td>43.7943</td>\n",
       "      <td>44.1043</td>\n",
       "      <td>18551600</td>\n",
       "      <td>NASDAQ</td>\n",
       "    </tr>\n",
       "    <tr>\n",
       "      <th>5738</th>\n",
       "      <td>AAPL</td>\n",
       "      <td>2010-02-01</td>\n",
       "      <td>27.4814</td>\n",
       "      <td>28.0000</td>\n",
       "      <td>27.3286</td>\n",
       "      <td>27.8186</td>\n",
       "      <td>26781200</td>\n",
       "      <td>NASDAQ</td>\n",
       "    </tr>\n",
       "    <tr>\n",
       "      <th>...</th>\n",
       "      <td>...</td>\n",
       "      <td>...</td>\n",
       "      <td>...</td>\n",
       "      <td>...</td>\n",
       "      <td>...</td>\n",
       "      <td>...</td>\n",
       "      <td>...</td>\n",
       "      <td>...</td>\n",
       "    </tr>\n",
       "    <tr>\n",
       "      <th>355044</th>\n",
       "      <td>AAPL</td>\n",
       "      <td>2010-11-12</td>\n",
       "      <td>45.1429</td>\n",
       "      <td>45.2143</td>\n",
       "      <td>43.3757</td>\n",
       "      <td>44.0043</td>\n",
       "      <td>28423000</td>\n",
       "      <td>NASDAQ</td>\n",
       "    </tr>\n",
       "    <tr>\n",
       "      <th>356518</th>\n",
       "      <td>AAPL</td>\n",
       "      <td>2010-02-24</td>\n",
       "      <td>28.3186</td>\n",
       "      <td>28.7771</td>\n",
       "      <td>28.2629</td>\n",
       "      <td>28.6657</td>\n",
       "      <td>16448700</td>\n",
       "      <td>NASDAQ</td>\n",
       "    </tr>\n",
       "    <tr>\n",
       "      <th>357917</th>\n",
       "      <td>AAPL</td>\n",
       "      <td>2010-08-13</td>\n",
       "      <td>35.9500</td>\n",
       "      <td>35.9829</td>\n",
       "      <td>35.5843</td>\n",
       "      <td>35.5857</td>\n",
       "      <td>12673800</td>\n",
       "      <td>NASDAQ</td>\n",
       "    </tr>\n",
       "    <tr>\n",
       "      <th>359368</th>\n",
       "      <td>AAPL</td>\n",
       "      <td>2010-06-08</td>\n",
       "      <td>36.1771</td>\n",
       "      <td>36.2571</td>\n",
       "      <td>35.0929</td>\n",
       "      <td>35.6186</td>\n",
       "      <td>35741700</td>\n",
       "      <td>NASDAQ</td>\n",
       "    </tr>\n",
       "    <tr>\n",
       "      <th>360802</th>\n",
       "      <td>AAPL</td>\n",
       "      <td>2010-04-22</td>\n",
       "      <td>36.8914</td>\n",
       "      <td>38.1071</td>\n",
       "      <td>36.6000</td>\n",
       "      <td>38.0671</td>\n",
       "      <td>28336500</td>\n",
       "      <td>NASDAQ</td>\n",
       "    </tr>\n",
       "  </tbody>\n",
       "</table>\n",
       "<p>252 rows × 8 columns</p>\n",
       "</div>"
      ],
      "text/plain": [
       "        symb    retdate      opn     high      low      cls       vol    exch\n",
       "2       AAPL 2010-04-07  34.2457  34.5600  34.0943  34.3714  22446400  NASDAQ\n",
       "1413    AAPL 2010-04-13  34.5514  34.6857  34.4443  34.6329  10936000  NASDAQ\n",
       "2826    AAPL 2010-06-11  35.4614  36.2657  35.3386  36.2157  19491400  NASDAQ\n",
       "4260    AAPL 2010-11-23  44.3500  44.5357  43.7943  44.1043  18551600  NASDAQ\n",
       "5738    AAPL 2010-02-01  27.4814  28.0000  27.3286  27.8186  26781200  NASDAQ\n",
       "...      ...        ...      ...      ...      ...      ...       ...     ...\n",
       "355044  AAPL 2010-11-12  45.1429  45.2143  43.3757  44.0043  28423000  NASDAQ\n",
       "356518  AAPL 2010-02-24  28.3186  28.7771  28.2629  28.6657  16448700  NASDAQ\n",
       "357917  AAPL 2010-08-13  35.9500  35.9829  35.5843  35.5857  12673800  NASDAQ\n",
       "359368  AAPL 2010-06-08  36.1771  36.2571  35.0929  35.6186  35741700  NASDAQ\n",
       "360802  AAPL 2010-04-22  36.8914  38.1071  36.6000  38.0671  28336500  NASDAQ\n",
       "\n",
       "[252 rows x 8 columns]"
      ]
     },
     "execution_count": 21,
     "metadata": {},
     "output_type": "execute_result"
    }
   ],
   "source": [
    "df2010.loc[(df2010.loc[:, 'symb'] == 'AAPL'), :]"
   ]
  },
  {
   "attachments": {},
   "cell_type": "markdown",
   "metadata": {},
   "source": [
    "2. All columns from the table and a column with the difference between open and close (open - close) for AAPL on the 7th of January."
   ]
  },
  {
   "cell_type": "code",
   "execution_count": 25,
   "metadata": {},
   "outputs": [
    {
     "data": {
      "text/html": [
       "<div>\n",
       "<style scoped>\n",
       "    .dataframe tbody tr th:only-of-type {\n",
       "        vertical-align: middle;\n",
       "    }\n",
       "\n",
       "    .dataframe tbody tr th {\n",
       "        vertical-align: top;\n",
       "    }\n",
       "\n",
       "    .dataframe thead th {\n",
       "        text-align: right;\n",
       "    }\n",
       "</style>\n",
       "<table border=\"1\" class=\"dataframe\">\n",
       "  <thead>\n",
       "    <tr style=\"text-align: right;\">\n",
       "      <th></th>\n",
       "      <th>symb</th>\n",
       "      <th>retdate</th>\n",
       "      <th>opn</th>\n",
       "      <th>high</th>\n",
       "      <th>low</th>\n",
       "      <th>cls</th>\n",
       "      <th>vol</th>\n",
       "      <th>exch</th>\n",
       "      <th>diff</th>\n",
       "    </tr>\n",
       "  </thead>\n",
       "  <tbody>\n",
       "    <tr>\n",
       "      <th>155006</th>\n",
       "      <td>AAPL</td>\n",
       "      <td>2010-01-07</td>\n",
       "      <td>30.25</td>\n",
       "      <td>30.2857</td>\n",
       "      <td>29.8643</td>\n",
       "      <td>30.0829</td>\n",
       "      <td>17040300</td>\n",
       "      <td>NASDAQ</td>\n",
       "      <td>0.1671</td>\n",
       "    </tr>\n",
       "  </tbody>\n",
       "</table>\n",
       "</div>"
      ],
      "text/plain": [
       "        symb    retdate    opn     high      low      cls       vol    exch  \\\n",
       "155006  AAPL 2010-01-07  30.25  30.2857  29.8643  30.0829  17040300  NASDAQ   \n",
       "\n",
       "          diff  \n",
       "155006  0.1671  "
      ]
     },
     "execution_count": 25,
     "metadata": {},
     "output_type": "execute_result"
    }
   ],
   "source": [
    "df2010.loc[(df2010.loc[:, 'symb'] == 'AAPL') &\\\n",
    "            (df2010.loc[:, 'retdate'] == '2010-01-07'), :].assign(\\\n",
    "    diff = df2010.loc[:, 'opn']-df2010.loc[:, 'cls'])"
   ]
  },
  {
   "attachments": {},
   "cell_type": "markdown",
   "metadata": {},
   "source": [
    "3. Write a query which returns the stock symbol, the date, the open and close price for the top five dfferences (open - close) in 2010 for only those stocks on the New York Stock Exchange (NYSE)."
   ]
  },
  {
   "cell_type": "code",
   "execution_count": 34,
   "metadata": {},
   "outputs": [
    {
     "data": {
      "text/html": [
       "<div>\n",
       "<style scoped>\n",
       "    .dataframe tbody tr th:only-of-type {\n",
       "        vertical-align: middle;\n",
       "    }\n",
       "\n",
       "    .dataframe tbody tr th {\n",
       "        vertical-align: top;\n",
       "    }\n",
       "\n",
       "    .dataframe thead th {\n",
       "        text-align: right;\n",
       "    }\n",
       "</style>\n",
       "<table border=\"1\" class=\"dataframe\">\n",
       "  <thead>\n",
       "    <tr style=\"text-align: right;\">\n",
       "      <th></th>\n",
       "      <th>symb</th>\n",
       "      <th>retdate</th>\n",
       "      <th>opn</th>\n",
       "      <th>cls</th>\n",
       "    </tr>\n",
       "  </thead>\n",
       "  <tbody>\n",
       "    <tr>\n",
       "      <th>729747</th>\n",
       "      <td>BRK.A</td>\n",
       "      <td>2010-01-22</td>\n",
       "      <td>109720.0</td>\n",
       "      <td>105000.0</td>\n",
       "    </tr>\n",
       "    <tr>\n",
       "      <th>814544</th>\n",
       "      <td>BRK.A</td>\n",
       "      <td>2010-01-25</td>\n",
       "      <td>107400.0</td>\n",
       "      <td>103200.0</td>\n",
       "    </tr>\n",
       "    <tr>\n",
       "      <th>501006</th>\n",
       "      <td>BRK.A</td>\n",
       "      <td>2010-02-01</td>\n",
       "      <td>116640.0</td>\n",
       "      <td>113138.0</td>\n",
       "    </tr>\n",
       "    <tr>\n",
       "      <th>789262</th>\n",
       "      <td>BRK.A</td>\n",
       "      <td>2010-01-26</td>\n",
       "      <td>104800.0</td>\n",
       "      <td>101751.0</td>\n",
       "    </tr>\n",
       "    <tr>\n",
       "      <th>481255</th>\n",
       "      <td>BRK.A</td>\n",
       "      <td>2010-07-16</td>\n",
       "      <td>118800.0</td>\n",
       "      <td>115815.0</td>\n",
       "    </tr>\n",
       "  </tbody>\n",
       "</table>\n",
       "</div>"
      ],
      "text/plain": [
       "         symb    retdate       opn       cls\n",
       "729747  BRK.A 2010-01-22  109720.0  105000.0\n",
       "814544  BRK.A 2010-01-25  107400.0  103200.0\n",
       "501006  BRK.A 2010-02-01  116640.0  113138.0\n",
       "789262  BRK.A 2010-01-26  104800.0  101751.0\n",
       "481255  BRK.A 2010-07-16  118800.0  115815.0"
      ]
     },
     "execution_count": 34,
     "metadata": {},
     "output_type": "execute_result"
    }
   ],
   "source": [
    "temp = df2010.copy().assign(diff = (df2010.loc[:, 'opn']-df2010.loc[:, 'cls']))\n",
    "temp.loc[(temp.loc[:, 'exch'] == 'NYSE'), ['symb', 'retdate', 'opn', 'cls', 'diff']].nlargest(5, ['diff']).drop(columns = ['diff'])"
   ]
  },
  {
   "attachments": {},
   "cell_type": "markdown",
   "metadata": {},
   "source": [
    "4. The days when AAPL has a volume more than 20 million and where the high is $3 or more dollars greater than the low. Write it twice, once to return a series and once as a dataFrame."
   ]
  },
  {
   "cell_type": "code",
   "execution_count": 35,
   "metadata": {},
   "outputs": [
    {
     "data": {
      "text/plain": [
       "121881   2010-05-07\n",
       "126158   2010-05-06\n",
       "Name: retdate, dtype: datetime64[ns]"
      ]
     },
     "execution_count": 35,
     "metadata": {},
     "output_type": "execute_result"
    }
   ],
   "source": [
    "df2010.loc[(df2010.loc[:, 'symb'] == 'AAPL') &\\\n",
    "            (df2010.loc[:, 'vol'] > 20000000) &\\\n",
    "                  (df2010.loc[:, 'high'] > df2010.loc[:, 'low'] + 3), 'retdate']\n"
   ]
  },
  {
   "cell_type": "code",
   "execution_count": 36,
   "metadata": {},
   "outputs": [
    {
     "data": {
      "text/html": [
       "<div>\n",
       "<style scoped>\n",
       "    .dataframe tbody tr th:only-of-type {\n",
       "        vertical-align: middle;\n",
       "    }\n",
       "\n",
       "    .dataframe tbody tr th {\n",
       "        vertical-align: top;\n",
       "    }\n",
       "\n",
       "    .dataframe thead th {\n",
       "        text-align: right;\n",
       "    }\n",
       "</style>\n",
       "<table border=\"1\" class=\"dataframe\">\n",
       "  <thead>\n",
       "    <tr style=\"text-align: right;\">\n",
       "      <th></th>\n",
       "      <th>retdate</th>\n",
       "    </tr>\n",
       "  </thead>\n",
       "  <tbody>\n",
       "    <tr>\n",
       "      <th>121881</th>\n",
       "      <td>2010-05-07</td>\n",
       "    </tr>\n",
       "    <tr>\n",
       "      <th>126158</th>\n",
       "      <td>2010-05-06</td>\n",
       "    </tr>\n",
       "  </tbody>\n",
       "</table>\n",
       "</div>"
      ],
      "text/plain": [
       "          retdate\n",
       "121881 2010-05-07\n",
       "126158 2010-05-06"
      ]
     },
     "execution_count": 36,
     "metadata": {},
     "output_type": "execute_result"
    }
   ],
   "source": [
    "df2010.loc[(df2010.loc[:, 'symb'] == 'AAPL') &\\\n",
    "            (df2010.loc[:, 'vol'] > 20000000) &\\\n",
    "                  (df2010.loc[:, 'high'] > df2010.loc[:, 'low'] + 3), ['retdate']]"
   ]
  },
  {
   "attachments": {},
   "cell_type": "markdown",
   "metadata": {},
   "source": [
    "5. Write a query which returns 3 columns: the return date, SYMB and volume, but only for stocks that have a volume larger than 200 million"
   ]
  },
  {
   "cell_type": "code",
   "execution_count": 37,
   "metadata": {},
   "outputs": [
    {
     "data": {
      "text/html": [
       "<div>\n",
       "<style scoped>\n",
       "    .dataframe tbody tr th:only-of-type {\n",
       "        vertical-align: middle;\n",
       "    }\n",
       "\n",
       "    .dataframe tbody tr th {\n",
       "        vertical-align: top;\n",
       "    }\n",
       "\n",
       "    .dataframe thead th {\n",
       "        text-align: right;\n",
       "    }\n",
       "</style>\n",
       "<table border=\"1\" class=\"dataframe\">\n",
       "  <thead>\n",
       "    <tr style=\"text-align: right;\">\n",
       "      <th></th>\n",
       "      <th>retdate</th>\n",
       "      <th>symb</th>\n",
       "      <th>vol</th>\n",
       "    </tr>\n",
       "  </thead>\n",
       "  <tbody>\n",
       "    <tr>\n",
       "      <th>1179</th>\n",
       "      <td>2010-04-07</td>\n",
       "      <td>SIRI</td>\n",
       "      <td>609834400</td>\n",
       "    </tr>\n",
       "    <tr>\n",
       "      <th>2593</th>\n",
       "      <td>2010-04-13</td>\n",
       "      <td>SIRI</td>\n",
       "      <td>205387400</td>\n",
       "    </tr>\n",
       "    <tr>\n",
       "      <th>29792</th>\n",
       "      <td>2010-04-05</td>\n",
       "      <td>SIRI</td>\n",
       "      <td>237218700</td>\n",
       "    </tr>\n",
       "    <tr>\n",
       "      <th>31208</th>\n",
       "      <td>2010-04-15</td>\n",
       "      <td>SIRI</td>\n",
       "      <td>252020000</td>\n",
       "    </tr>\n",
       "    <tr>\n",
       "      <th>32620</th>\n",
       "      <td>2010-04-01</td>\n",
       "      <td>SIRI</td>\n",
       "      <td>225720900</td>\n",
       "    </tr>\n",
       "    <tr>\n",
       "      <th>...</th>\n",
       "      <td>...</td>\n",
       "      <td>...</td>\n",
       "      <td>...</td>\n",
       "    </tr>\n",
       "    <tr>\n",
       "      <th>792762</th>\n",
       "      <td>2010-03-26</td>\n",
       "      <td>BAC</td>\n",
       "      <td>220970600</td>\n",
       "    </tr>\n",
       "    <tr>\n",
       "      <th>796356</th>\n",
       "      <td>2010-05-20</td>\n",
       "      <td>BAC</td>\n",
       "      <td>301264100</td>\n",
       "    </tr>\n",
       "    <tr>\n",
       "      <th>803582</th>\n",
       "      <td>2010-05-21</td>\n",
       "      <td>BAC</td>\n",
       "      <td>266468400</td>\n",
       "    </tr>\n",
       "    <tr>\n",
       "      <th>810771</th>\n",
       "      <td>2010-12-07</td>\n",
       "      <td>BAC</td>\n",
       "      <td>215071500</td>\n",
       "    </tr>\n",
       "    <tr>\n",
       "      <th>814443</th>\n",
       "      <td>2010-01-25</td>\n",
       "      <td>BAC</td>\n",
       "      <td>262351400</td>\n",
       "    </tr>\n",
       "  </tbody>\n",
       "</table>\n",
       "<p>139 rows × 3 columns</p>\n",
       "</div>"
      ],
      "text/plain": [
       "          retdate  symb        vol\n",
       "1179   2010-04-07  SIRI  609834400\n",
       "2593   2010-04-13  SIRI  205387400\n",
       "29792  2010-04-05  SIRI  237218700\n",
       "31208  2010-04-15  SIRI  252020000\n",
       "32620  2010-04-01  SIRI  225720900\n",
       "...           ...   ...        ...\n",
       "792762 2010-03-26   BAC  220970600\n",
       "796356 2010-05-20   BAC  301264100\n",
       "803582 2010-05-21   BAC  266468400\n",
       "810771 2010-12-07   BAC  215071500\n",
       "814443 2010-01-25   BAC  262351400\n",
       "\n",
       "[139 rows x 3 columns]"
      ]
     },
     "execution_count": 37,
     "metadata": {},
     "output_type": "execute_result"
    }
   ],
   "source": [
    "df2010.loc[(df2010.loc[:, 'vol'] > 200000000), ['retdate', 'symb', 'vol']]"
   ]
  },
  {
   "attachments": {},
   "cell_type": "markdown",
   "metadata": {},
   "source": [
    "# Main Problems"
   ]
  },
  {
   "attachments": {},
   "cell_type": "markdown",
   "metadata": {},
   "source": [
    "1. Write a query which returns all information about about Google (GOOG), NetFlix (NFLX), Amazon (AMZN) and Microsoft (MSFT) in 2010."
   ]
  },
  {
   "cell_type": "code",
   "execution_count": 38,
   "metadata": {},
   "outputs": [
    {
     "data": {
      "text/html": [
       "<div>\n",
       "<style scoped>\n",
       "    .dataframe tbody tr th:only-of-type {\n",
       "        vertical-align: middle;\n",
       "    }\n",
       "\n",
       "    .dataframe tbody tr th {\n",
       "        vertical-align: top;\n",
       "    }\n",
       "\n",
       "    .dataframe thead th {\n",
       "        text-align: right;\n",
       "    }\n",
       "</style>\n",
       "<table border=\"1\" class=\"dataframe\">\n",
       "  <thead>\n",
       "    <tr style=\"text-align: right;\">\n",
       "      <th></th>\n",
       "      <th>symb</th>\n",
       "      <th>retdate</th>\n",
       "      <th>opn</th>\n",
       "      <th>high</th>\n",
       "      <th>low</th>\n",
       "      <th>cls</th>\n",
       "      <th>vol</th>\n",
       "      <th>exch</th>\n",
       "    </tr>\n",
       "  </thead>\n",
       "  <tbody>\n",
       "    <tr>\n",
       "      <th>81</th>\n",
       "      <td>AMZN</td>\n",
       "      <td>2010-04-07</td>\n",
       "      <td>135.9600</td>\n",
       "      <td>136.0800</td>\n",
       "      <td>133.8600</td>\n",
       "      <td>134.8700</td>\n",
       "      <td>5947200</td>\n",
       "      <td>NASDAQ</td>\n",
       "    </tr>\n",
       "    <tr>\n",
       "      <th>569</th>\n",
       "      <td>GOOG</td>\n",
       "      <td>2010-04-07</td>\n",
       "      <td>283.6500</td>\n",
       "      <td>284.3750</td>\n",
       "      <td>280.9300</td>\n",
       "      <td>281.7700</td>\n",
       "      <td>2581000</td>\n",
       "      <td>NASDAQ</td>\n",
       "    </tr>\n",
       "    <tr>\n",
       "      <th>872</th>\n",
       "      <td>MSFT</td>\n",
       "      <td>2010-04-07</td>\n",
       "      <td>29.1600</td>\n",
       "      <td>29.5600</td>\n",
       "      <td>29.1400</td>\n",
       "      <td>29.3500</td>\n",
       "      <td>58320500</td>\n",
       "      <td>NASDAQ</td>\n",
       "    </tr>\n",
       "    <tr>\n",
       "      <th>904</th>\n",
       "      <td>NFLX</td>\n",
       "      <td>2010-04-07</td>\n",
       "      <td>11.7271</td>\n",
       "      <td>11.7671</td>\n",
       "      <td>11.3143</td>\n",
       "      <td>11.3900</td>\n",
       "      <td>3602100</td>\n",
       "      <td>NASDAQ</td>\n",
       "    </tr>\n",
       "    <tr>\n",
       "      <th>1492</th>\n",
       "      <td>AMZN</td>\n",
       "      <td>2010-04-13</td>\n",
       "      <td>141.2300</td>\n",
       "      <td>141.9800</td>\n",
       "      <td>139.1200</td>\n",
       "      <td>140.1600</td>\n",
       "      <td>4787000</td>\n",
       "      <td>NASDAQ</td>\n",
       "    </tr>\n",
       "    <tr>\n",
       "      <th>...</th>\n",
       "      <td>...</td>\n",
       "      <td>...</td>\n",
       "      <td>...</td>\n",
       "      <td>...</td>\n",
       "      <td>...</td>\n",
       "      <td>...</td>\n",
       "      <td>...</td>\n",
       "      <td>...</td>\n",
       "    </tr>\n",
       "    <tr>\n",
       "      <th>360288</th>\n",
       "      <td>NFLX</td>\n",
       "      <td>2010-06-08</td>\n",
       "      <td>15.8671</td>\n",
       "      <td>16.0714</td>\n",
       "      <td>15.3286</td>\n",
       "      <td>15.7614</td>\n",
       "      <td>3446000</td>\n",
       "      <td>NASDAQ</td>\n",
       "    </tr>\n",
       "    <tr>\n",
       "      <th>360882</th>\n",
       "      <td>AMZN</td>\n",
       "      <td>2010-04-22</td>\n",
       "      <td>147.0100</td>\n",
       "      <td>151.0900</td>\n",
       "      <td>145.8800</td>\n",
       "      <td>150.0900</td>\n",
       "      <td>15165700</td>\n",
       "      <td>NASDAQ</td>\n",
       "    </tr>\n",
       "    <tr>\n",
       "      <th>361375</th>\n",
       "      <td>GOOG</td>\n",
       "      <td>2010-04-22</td>\n",
       "      <td>276.0000</td>\n",
       "      <td>276.2500</td>\n",
       "      <td>271.6750</td>\n",
       "      <td>273.5300</td>\n",
       "      <td>3283600</td>\n",
       "      <td>NASDAQ</td>\n",
       "    </tr>\n",
       "    <tr>\n",
       "      <th>361680</th>\n",
       "      <td>MSFT</td>\n",
       "      <td>2010-04-22</td>\n",
       "      <td>31.0400</td>\n",
       "      <td>31.5300</td>\n",
       "      <td>30.9000</td>\n",
       "      <td>31.3900</td>\n",
       "      <td>84847500</td>\n",
       "      <td>NASDAQ</td>\n",
       "    </tr>\n",
       "    <tr>\n",
       "      <th>361712</th>\n",
       "      <td>NFLX</td>\n",
       "      <td>2010-04-22</td>\n",
       "      <td>13.0000</td>\n",
       "      <td>14.6414</td>\n",
       "      <td>12.9500</td>\n",
       "      <td>14.3214</td>\n",
       "      <td>12926400</td>\n",
       "      <td>NASDAQ</td>\n",
       "    </tr>\n",
       "  </tbody>\n",
       "</table>\n",
       "<p>1008 rows × 8 columns</p>\n",
       "</div>"
      ],
      "text/plain": [
       "        symb    retdate       opn      high       low       cls       vol  \\\n",
       "81      AMZN 2010-04-07  135.9600  136.0800  133.8600  134.8700   5947200   \n",
       "569     GOOG 2010-04-07  283.6500  284.3750  280.9300  281.7700   2581000   \n",
       "872     MSFT 2010-04-07   29.1600   29.5600   29.1400   29.3500  58320500   \n",
       "904     NFLX 2010-04-07   11.7271   11.7671   11.3143   11.3900   3602100   \n",
       "1492    AMZN 2010-04-13  141.2300  141.9800  139.1200  140.1600   4787000   \n",
       "...      ...        ...       ...       ...       ...       ...       ...   \n",
       "360288  NFLX 2010-06-08   15.8671   16.0714   15.3286   15.7614   3446000   \n",
       "360882  AMZN 2010-04-22  147.0100  151.0900  145.8800  150.0900  15165700   \n",
       "361375  GOOG 2010-04-22  276.0000  276.2500  271.6750  273.5300   3283600   \n",
       "361680  MSFT 2010-04-22   31.0400   31.5300   30.9000   31.3900  84847500   \n",
       "361712  NFLX 2010-04-22   13.0000   14.6414   12.9500   14.3214  12926400   \n",
       "\n",
       "          exch  \n",
       "81      NASDAQ  \n",
       "569     NASDAQ  \n",
       "872     NASDAQ  \n",
       "904     NASDAQ  \n",
       "1492    NASDAQ  \n",
       "...        ...  \n",
       "360288  NASDAQ  \n",
       "360882  NASDAQ  \n",
       "361375  NASDAQ  \n",
       "361680  NASDAQ  \n",
       "361712  NASDAQ  \n",
       "\n",
       "[1008 rows x 8 columns]"
      ]
     },
     "execution_count": 38,
     "metadata": {},
     "output_type": "execute_result"
    }
   ],
   "source": [
    "df2010.loc[(df2010.loc[:, 'symb'] == 'GOOG') |\\\n",
    "            (df2010.loc[:, 'symb'] == 'NFLX') |\\\n",
    "                  (df2010.loc[:, 'symb'] == 'AMZN') |\\\n",
    "                      (df2010.loc[:, 'symb'] == 'MSFT'), :]"
   ]
  },
  {
   "attachments": {},
   "cell_type": "markdown",
   "metadata": {},
   "source": [
    "2. Write a query which returns the date and symbol of the largest “one-day gainer”, that is the stock which has the highest close - open on the NYSE."
   ]
  },
  {
   "cell_type": "code",
   "execution_count": 44,
   "metadata": {},
   "outputs": [
    {
     "data": {
      "text/html": [
       "<div>\n",
       "<style scoped>\n",
       "    .dataframe tbody tr th:only-of-type {\n",
       "        vertical-align: middle;\n",
       "    }\n",
       "\n",
       "    .dataframe tbody tr th {\n",
       "        vertical-align: top;\n",
       "    }\n",
       "\n",
       "    .dataframe thead th {\n",
       "        text-align: right;\n",
       "    }\n",
       "</style>\n",
       "<table border=\"1\" class=\"dataframe\">\n",
       "  <thead>\n",
       "    <tr style=\"text-align: right;\">\n",
       "      <th></th>\n",
       "      <th>retdate</th>\n",
       "      <th>symb</th>\n",
       "    </tr>\n",
       "  </thead>\n",
       "  <tbody>\n",
       "    <tr>\n",
       "      <th>720705</th>\n",
       "      <td>2010-01-20</td>\n",
       "      <td>BRK.A</td>\n",
       "    </tr>\n",
       "  </tbody>\n",
       "</table>\n",
       "</div>"
      ],
      "text/plain": [
       "          retdate   symb\n",
       "720705 2010-01-20  BRK.A"
      ]
     },
     "execution_count": 44,
     "metadata": {},
     "output_type": "execute_result"
    }
   ],
   "source": [
    "df2010.loc[(df2010.loc[:, 'exch'] == 'NYSE'), :].assign(\\\n",
    "    diff = df2010.loc[:, 'cls']-df2010.loc[:, 'opn']).nlargest(1, ['diff']).loc[:, ['retdate', 'symb']]"
   ]
  },
  {
   "attachments": {},
   "cell_type": "markdown",
   "metadata": {},
   "source": [
    "3. Write a query which returns the date and symbol of the largest “one-day percentage gainer”, that is the stock which has the highest (close - open) / open on the NYSE."
   ]
  },
  {
   "cell_type": "code",
   "execution_count": 46,
   "metadata": {},
   "outputs": [
    {
     "data": {
      "text/html": [
       "<div>\n",
       "<style scoped>\n",
       "    .dataframe tbody tr th:only-of-type {\n",
       "        vertical-align: middle;\n",
       "    }\n",
       "\n",
       "    .dataframe tbody tr th {\n",
       "        vertical-align: top;\n",
       "    }\n",
       "\n",
       "    .dataframe thead th {\n",
       "        text-align: right;\n",
       "    }\n",
       "</style>\n",
       "<table border=\"1\" class=\"dataframe\">\n",
       "  <thead>\n",
       "    <tr style=\"text-align: right;\">\n",
       "      <th></th>\n",
       "      <th>retdate</th>\n",
       "      <th>symb</th>\n",
       "    </tr>\n",
       "  </thead>\n",
       "  <tbody>\n",
       "    <tr>\n",
       "      <th>671747</th>\n",
       "      <td>2010-02-19</td>\n",
       "      <td>XRM</td>\n",
       "    </tr>\n",
       "  </tbody>\n",
       "</table>\n",
       "</div>"
      ],
      "text/plain": [
       "          retdate symb\n",
       "671747 2010-02-19  XRM"
      ]
     },
     "execution_count": 46,
     "metadata": {},
     "output_type": "execute_result"
    }
   ],
   "source": [
    "df2010.loc[(df2010.loc[:, 'exch'] == 'NYSE'), :].assign(\\\n",
    "    perc_gain = (df2010.loc[:, 'cls']-df2010.loc[:, 'opn'])/df2010.loc[:, 'opn']).nlargest(1, ['perc_gain']).loc[:, ['retdate', 'symb']]"
   ]
  },
  {
   "attachments": {},
   "cell_type": "markdown",
   "metadata": {},
   "source": [
    "4. Consider stocks on the NYSE which had a volume of more than 1 million. Which stocks (symbol and date) had their open price the same as their low and their closing price the same as their high?"
   ]
  },
  {
   "cell_type": "code",
   "execution_count": 47,
   "metadata": {},
   "outputs": [
    {
     "data": {
      "text/html": [
       "<div>\n",
       "<style scoped>\n",
       "    .dataframe tbody tr th:only-of-type {\n",
       "        vertical-align: middle;\n",
       "    }\n",
       "\n",
       "    .dataframe tbody tr th {\n",
       "        vertical-align: top;\n",
       "    }\n",
       "\n",
       "    .dataframe thead th {\n",
       "        text-align: right;\n",
       "    }\n",
       "</style>\n",
       "<table border=\"1\" class=\"dataframe\">\n",
       "  <thead>\n",
       "    <tr style=\"text-align: right;\">\n",
       "      <th></th>\n",
       "      <th>retdate</th>\n",
       "      <th>symb</th>\n",
       "    </tr>\n",
       "  </thead>\n",
       "  <tbody>\n",
       "    <tr>\n",
       "      <th>364613</th>\n",
       "      <td>2010-12-22</td>\n",
       "      <td>FBP</td>\n",
       "    </tr>\n",
       "    <tr>\n",
       "      <th>365238</th>\n",
       "      <td>2010-12-22</td>\n",
       "      <td>NVS</td>\n",
       "    </tr>\n",
       "    <tr>\n",
       "      <th>366793</th>\n",
       "      <td>2010-01-14</td>\n",
       "      <td>LLY</td>\n",
       "    </tr>\n",
       "    <tr>\n",
       "      <th>367681</th>\n",
       "      <td>2010-10-20</td>\n",
       "      <td>AOD</td>\n",
       "    </tr>\n",
       "    <tr>\n",
       "      <th>369306</th>\n",
       "      <td>2010-10-20</td>\n",
       "      <td>VG</td>\n",
       "    </tr>\n",
       "    <tr>\n",
       "      <th>...</th>\n",
       "      <td>...</td>\n",
       "      <td>...</td>\n",
       "    </tr>\n",
       "    <tr>\n",
       "      <th>810042</th>\n",
       "      <td>2010-01-19</td>\n",
       "      <td>NRG</td>\n",
       "    </tr>\n",
       "    <tr>\n",
       "      <th>810137</th>\n",
       "      <td>2010-01-19</td>\n",
       "      <td>PGH</td>\n",
       "    </tr>\n",
       "    <tr>\n",
       "      <th>810230</th>\n",
       "      <td>2010-01-19</td>\n",
       "      <td>RCL</td>\n",
       "    </tr>\n",
       "    <tr>\n",
       "      <th>810234</th>\n",
       "      <td>2010-01-19</td>\n",
       "      <td>RDS.A</td>\n",
       "    </tr>\n",
       "    <tr>\n",
       "      <th>815991</th>\n",
       "      <td>2010-01-25</td>\n",
       "      <td>VVR</td>\n",
       "    </tr>\n",
       "  </tbody>\n",
       "</table>\n",
       "<p>298 rows × 2 columns</p>\n",
       "</div>"
      ],
      "text/plain": [
       "          retdate   symb\n",
       "364613 2010-12-22    FBP\n",
       "365238 2010-12-22    NVS\n",
       "366793 2010-01-14    LLY\n",
       "367681 2010-10-20    AOD\n",
       "369306 2010-10-20     VG\n",
       "...           ...    ...\n",
       "810042 2010-01-19    NRG\n",
       "810137 2010-01-19    PGH\n",
       "810230 2010-01-19    RCL\n",
       "810234 2010-01-19  RDS.A\n",
       "815991 2010-01-25    VVR\n",
       "\n",
       "[298 rows x 2 columns]"
      ]
     },
     "execution_count": 47,
     "metadata": {},
     "output_type": "execute_result"
    }
   ],
   "source": [
    "df2010.loc[(df2010.loc[:, 'exch'] == 'NYSE') &\\\n",
    "            (df2010.loc[:, 'vol'] > 1000000) &\\\n",
    "                  (df2010.loc[:, 'opn'] == df2010.loc[:, 'low']) &\\\n",
    "                      (df2010.loc[:, 'cls'] == df2010.loc[:, 'high']), ['retdate', 'symb']]"
   ]
  },
  {
   "attachments": {},
   "cell_type": "markdown",
   "metadata": {},
   "source": [
    "5. Consider stocks on the NYSE which had a volume of more than 1 million. Which stocks (symbol and date) had their closing price the same as their low and their opening price the same as their high?"
   ]
  },
  {
   "cell_type": "code",
   "execution_count": 55,
   "metadata": {},
   "outputs": [
    {
     "data": {
      "text/html": [
       "<div>\n",
       "<style scoped>\n",
       "    .dataframe tbody tr th:only-of-type {\n",
       "        vertical-align: middle;\n",
       "    }\n",
       "\n",
       "    .dataframe tbody tr th {\n",
       "        vertical-align: top;\n",
       "    }\n",
       "\n",
       "    .dataframe thead th {\n",
       "        text-align: right;\n",
       "    }\n",
       "</style>\n",
       "<table border=\"1\" class=\"dataframe\">\n",
       "  <thead>\n",
       "    <tr style=\"text-align: right;\">\n",
       "      <th></th>\n",
       "      <th>retdate</th>\n",
       "      <th>symb</th>\n",
       "    </tr>\n",
       "  </thead>\n",
       "  <tbody>\n",
       "    <tr>\n",
       "      <th>362863</th>\n",
       "      <td>2010-01-28</td>\n",
       "      <td>FNF</td>\n",
       "    </tr>\n",
       "    <tr>\n",
       "      <th>363639</th>\n",
       "      <td>2010-01-28</td>\n",
       "      <td>S</td>\n",
       "    </tr>\n",
       "    <tr>\n",
       "      <th>364331</th>\n",
       "      <td>2010-12-22</td>\n",
       "      <td>CHS</td>\n",
       "    </tr>\n",
       "    <tr>\n",
       "      <th>364489</th>\n",
       "      <td>2010-12-22</td>\n",
       "      <td>DNR</td>\n",
       "    </tr>\n",
       "    <tr>\n",
       "      <th>365402</th>\n",
       "      <td>2010-12-22</td>\n",
       "      <td>RAD</td>\n",
       "    </tr>\n",
       "    <tr>\n",
       "      <th>...</th>\n",
       "      <td>...</td>\n",
       "      <td>...</td>\n",
       "    </tr>\n",
       "    <tr>\n",
       "      <th>810643</th>\n",
       "      <td>2010-12-07</td>\n",
       "      <td>ACV</td>\n",
       "    </tr>\n",
       "    <tr>\n",
       "      <th>811243</th>\n",
       "      <td>2010-12-07</td>\n",
       "      <td>EXG</td>\n",
       "    </tr>\n",
       "    <tr>\n",
       "      <th>812768</th>\n",
       "      <td>2010-12-13</td>\n",
       "      <td>CBS</td>\n",
       "    </tr>\n",
       "    <tr>\n",
       "      <th>812778</th>\n",
       "      <td>2010-12-13</td>\n",
       "      <td>CCL</td>\n",
       "    </tr>\n",
       "    <tr>\n",
       "      <th>814313</th>\n",
       "      <td>2010-01-25</td>\n",
       "      <td>ABX</td>\n",
       "    </tr>\n",
       "  </tbody>\n",
       "</table>\n",
       "<p>223 rows × 2 columns</p>\n",
       "</div>"
      ],
      "text/plain": [
       "          retdate symb\n",
       "362863 2010-01-28  FNF\n",
       "363639 2010-01-28    S\n",
       "364331 2010-12-22  CHS\n",
       "364489 2010-12-22  DNR\n",
       "365402 2010-12-22  RAD\n",
       "...           ...  ...\n",
       "810643 2010-12-07  ACV\n",
       "811243 2010-12-07  EXG\n",
       "812768 2010-12-13  CBS\n",
       "812778 2010-12-13  CCL\n",
       "814313 2010-01-25  ABX\n",
       "\n",
       "[223 rows x 2 columns]"
      ]
     },
     "execution_count": 55,
     "metadata": {},
     "output_type": "execute_result"
    }
   ],
   "source": [
    "df2010.loc[(df2010.loc[:, 'exch'] == 'NYSE') &\\\n",
    "            (df2010.loc[:, 'vol'] > 1000000) &\\\n",
    "                  (df2010.loc[:, 'cls'] == df2010.loc[:, 'low']) &\\\n",
    "                      (df2010.loc[:, 'opn'] == df2010.loc[:, 'high']), ['retdate', 'symb']]"
   ]
  },
  {
   "attachments": {},
   "cell_type": "markdown",
   "metadata": {},
   "source": [
    "6. Consider stocks on the NYSE which had a volume of more than 1 million. Of those days which a stock had either (a) open = low and close = high or (b) open = high and close = low, which symbol and date has the largest volume traded?"
   ]
  },
  {
   "cell_type": "code",
   "execution_count": 49,
   "metadata": {},
   "outputs": [
    {
     "data": {
      "text/html": [
       "<div>\n",
       "<style scoped>\n",
       "    .dataframe tbody tr th:only-of-type {\n",
       "        vertical-align: middle;\n",
       "    }\n",
       "\n",
       "    .dataframe tbody tr th {\n",
       "        vertical-align: top;\n",
       "    }\n",
       "\n",
       "    .dataframe thead th {\n",
       "        text-align: right;\n",
       "    }\n",
       "</style>\n",
       "<table border=\"1\" class=\"dataframe\">\n",
       "  <thead>\n",
       "    <tr style=\"text-align: right;\">\n",
       "      <th></th>\n",
       "      <th>symb</th>\n",
       "      <th>retdate</th>\n",
       "    </tr>\n",
       "  </thead>\n",
       "  <tbody>\n",
       "    <tr>\n",
       "      <th>193789</th>\n",
       "      <td>YRCW</td>\n",
       "      <td>2010-07-27</td>\n",
       "    </tr>\n",
       "  </tbody>\n",
       "</table>\n",
       "</div>"
      ],
      "text/plain": [
       "        symb    retdate\n",
       "193789  YRCW 2010-07-27"
      ]
     },
     "execution_count": 49,
     "metadata": {},
     "output_type": "execute_result"
    }
   ],
   "source": [
    "df2010.loc[(df2010.loc[:, 'exch'] == 'NYSE') &\\\n",
    "            (df2010.loc[:, 'vol'] > 1000000) &\\\n",
    "                  ((df2010.loc[:, 'opn'] == df2010.loc[:, 'low']) & (df2010.loc[:, 'cls'] == df2010.loc[:, 'high'])) |\\\n",
    "                      ((df2010.loc[:, 'opn'] == df2010.loc[:, 'high']) & (df2010.loc[:, 'cls'] == df2010.loc[:, 'low'])),\\\n",
    "                          :].nlargest(1, 'vol').loc[:, ['symb', 'retdate']]"
   ]
  },
  {
   "attachments": {},
   "cell_type": "markdown",
   "metadata": {},
   "source": [
    "7. Which company (ticker symbol) had the highest net income over all the years that are in the FND table?"
   ]
  },
  {
   "cell_type": "code",
   "execution_count": 51,
   "metadata": {},
   "outputs": [
    {
     "data": {
      "text/html": [
       "<div>\n",
       "<style scoped>\n",
       "    .dataframe tbody tr th:only-of-type {\n",
       "        vertical-align: middle;\n",
       "    }\n",
       "\n",
       "    .dataframe tbody tr th {\n",
       "        vertical-align: top;\n",
       "    }\n",
       "\n",
       "    .dataframe thead th {\n",
       "        text-align: right;\n",
       "    }\n",
       "</style>\n",
       "<table border=\"1\" class=\"dataframe\">\n",
       "  <thead>\n",
       "    <tr style=\"text-align: right;\">\n",
       "      <th></th>\n",
       "      <th>tic</th>\n",
       "    </tr>\n",
       "  </thead>\n",
       "  <tbody>\n",
       "    <tr>\n",
       "      <th>1597</th>\n",
       "      <td>GM</td>\n",
       "    </tr>\n",
       "  </tbody>\n",
       "</table>\n",
       "</div>"
      ],
      "text/plain": [
       "     tic\n",
       "1597  GM"
      ]
     },
     "execution_count": 51,
     "metadata": {},
     "output_type": "execute_result"
    }
   ],
   "source": [
    "dffnd.nlargest(1, 'netinc').loc[:, ['tic']]"
   ]
  },
  {
   "attachments": {},
   "cell_type": "markdown",
   "metadata": {},
   "source": [
    "8. Which company (ticker symbol) had the highest net income in fiscal year 2011 (use the FND table)?"
   ]
  },
  {
   "cell_type": "code",
   "execution_count": 52,
   "metadata": {},
   "outputs": [
    {
     "data": {
      "text/html": [
       "<div>\n",
       "<style scoped>\n",
       "    .dataframe tbody tr th:only-of-type {\n",
       "        vertical-align: middle;\n",
       "    }\n",
       "\n",
       "    .dataframe tbody tr th {\n",
       "        vertical-align: top;\n",
       "    }\n",
       "\n",
       "    .dataframe thead th {\n",
       "        text-align: right;\n",
       "    }\n",
       "</style>\n",
       "<table border=\"1\" class=\"dataframe\">\n",
       "  <thead>\n",
       "    <tr style=\"text-align: right;\">\n",
       "      <th></th>\n",
       "      <th>tic</th>\n",
       "    </tr>\n",
       "  </thead>\n",
       "  <tbody>\n",
       "    <tr>\n",
       "      <th>1380</th>\n",
       "      <td>XOM</td>\n",
       "    </tr>\n",
       "  </tbody>\n",
       "</table>\n",
       "</div>"
      ],
      "text/plain": [
       "      tic\n",
       "1380  XOM"
      ]
     },
     "execution_count": 52,
     "metadata": {},
     "output_type": "execute_result"
    }
   ],
   "source": [
    "dffnd.loc[(dffnd.loc[:, 'fyear'] == 2011), :].nlargest(1, 'netinc').loc[:, ['tic']]"
   ]
  },
  {
   "attachments": {},
   "cell_type": "markdown",
   "metadata": {},
   "source": [
    "9. Which company (ticker symbol) had the lowest, non-zero, net income over all years (use the FND table)?"
   ]
  },
  {
   "cell_type": "code",
   "execution_count": 57,
   "metadata": {},
   "outputs": [
    {
     "data": {
      "text/html": [
       "<div>\n",
       "<style scoped>\n",
       "    .dataframe tbody tr th:only-of-type {\n",
       "        vertical-align: middle;\n",
       "    }\n",
       "\n",
       "    .dataframe tbody tr th {\n",
       "        vertical-align: top;\n",
       "    }\n",
       "\n",
       "    .dataframe thead th {\n",
       "        text-align: right;\n",
       "    }\n",
       "</style>\n",
       "<table border=\"1\" class=\"dataframe\">\n",
       "  <thead>\n",
       "    <tr style=\"text-align: right;\">\n",
       "      <th></th>\n",
       "      <th>tic</th>\n",
       "    </tr>\n",
       "  </thead>\n",
       "  <tbody>\n",
       "    <tr>\n",
       "      <th>1597</th>\n",
       "      <td>GM</td>\n",
       "    </tr>\n",
       "  </tbody>\n",
       "</table>\n",
       "</div>"
      ],
      "text/plain": [
       "     tic\n",
       "1597  GM"
      ]
     },
     "execution_count": 57,
     "metadata": {},
     "output_type": "execute_result"
    }
   ],
   "source": [
    "dffnd.loc[(dffnd.loc[:, 'netinc'] != 0), :].nlargest(1, 'netinc').loc[:, ['tic']]"
   ]
  },
  {
   "attachments": {},
   "cell_type": "markdown",
   "metadata": {},
   "source": [
    "10. Which company (ticker symbol), which had a net-income per employee over $1,000, had the largest number of employees (over all years)? Keep units in mind (use the FND table)!"
   ]
  },
  {
   "cell_type": "code",
   "execution_count": 59,
   "metadata": {},
   "outputs": [
    {
     "data": {
      "text/html": [
       "<div>\n",
       "<style scoped>\n",
       "    .dataframe tbody tr th:only-of-type {\n",
       "        vertical-align: middle;\n",
       "    }\n",
       "\n",
       "    .dataframe tbody tr th {\n",
       "        vertical-align: top;\n",
       "    }\n",
       "\n",
       "    .dataframe thead th {\n",
       "        text-align: right;\n",
       "    }\n",
       "</style>\n",
       "<table border=\"1\" class=\"dataframe\">\n",
       "  <thead>\n",
       "    <tr style=\"text-align: right;\">\n",
       "      <th></th>\n",
       "      <th>tic</th>\n",
       "    </tr>\n",
       "  </thead>\n",
       "  <tbody>\n",
       "    <tr>\n",
       "      <th>3986</th>\n",
       "      <td>WMT</td>\n",
       "    </tr>\n",
       "  </tbody>\n",
       "</table>\n",
       "</div>"
      ],
      "text/plain": [
       "      tic\n",
       "3986  WMT"
      ]
     },
     "execution_count": 59,
     "metadata": {},
     "output_type": "execute_result"
    }
   ],
   "source": [
    "dffnd.loc[((dffnd.loc[:, 'netinc']*1000000)/(dffnd.loc[:, 'emp']*1000) > 1000), :].nlargest(1, 'emp').loc[:, ['tic']]"
   ]
  },
  {
   "attachments": {},
   "cell_type": "markdown",
   "metadata": {},
   "source": [
    "# Even More Problems  "
   ]
  },
  {
   "attachments": {},
   "cell_type": "markdown",
   "metadata": {},
   "source": [
    "1. Which company (ticker symbol) had the lowest, non-zero, net income in fiscal year 2011 (use the FND table)?"
   ]
  },
  {
   "cell_type": "code",
   "execution_count": 63,
   "metadata": {},
   "outputs": [
    {
     "data": {
      "text/html": [
       "<div>\n",
       "<style scoped>\n",
       "    .dataframe tbody tr th:only-of-type {\n",
       "        vertical-align: middle;\n",
       "    }\n",
       "\n",
       "    .dataframe tbody tr th {\n",
       "        vertical-align: top;\n",
       "    }\n",
       "\n",
       "    .dataframe thead th {\n",
       "        text-align: right;\n",
       "    }\n",
       "</style>\n",
       "<table border=\"1\" class=\"dataframe\">\n",
       "  <thead>\n",
       "    <tr style=\"text-align: right;\">\n",
       "      <th></th>\n",
       "      <th>tic</th>\n",
       "    </tr>\n",
       "  </thead>\n",
       "  <tbody>\n",
       "    <tr>\n",
       "      <th>1409</th>\n",
       "      <td>FNMA</td>\n",
       "    </tr>\n",
       "  </tbody>\n",
       "</table>\n",
       "</div>"
      ],
      "text/plain": [
       "       tic\n",
       "1409  FNMA"
      ]
     },
     "execution_count": 63,
     "metadata": {},
     "output_type": "execute_result"
    }
   ],
   "source": [
    "dffnd.loc[(dffnd.loc[:, 'netinc'] != 0) & (dffnd.loc[:, 'fyear'] == 2011), :].nsmallest(1, 'netinc').loc[:, ['tic']]"
   ]
  },
  {
   "attachments": {},
   "cell_type": "markdown",
   "metadata": {},
   "source": [
    "2. Of the companies which had more than 1,000 employees in 2011 which had the highest net income per employee in 2011 (use the FND table)?"
   ]
  },
  {
   "cell_type": "code",
   "execution_count": 67,
   "metadata": {},
   "outputs": [
    {
     "data": {
      "text/html": [
       "<div>\n",
       "<style scoped>\n",
       "    .dataframe tbody tr th:only-of-type {\n",
       "        vertical-align: middle;\n",
       "    }\n",
       "\n",
       "    .dataframe tbody tr th {\n",
       "        vertical-align: top;\n",
       "    }\n",
       "\n",
       "    .dataframe thead th {\n",
       "        text-align: right;\n",
       "    }\n",
       "</style>\n",
       "<table border=\"1\" class=\"dataframe\">\n",
       "  <thead>\n",
       "    <tr style=\"text-align: right;\">\n",
       "      <th></th>\n",
       "      <th>tic</th>\n",
       "    </tr>\n",
       "  </thead>\n",
       "  <tbody>\n",
       "    <tr>\n",
       "      <th>19029</th>\n",
       "      <td>CEO</td>\n",
       "    </tr>\n",
       "  </tbody>\n",
       "</table>\n",
       "</div>"
      ],
      "text/plain": [
       "       tic\n",
       "19029  CEO"
      ]
     },
     "execution_count": 67,
     "metadata": {},
     "output_type": "execute_result"
    }
   ],
   "source": [
    "dffnd.loc[(dffnd.loc[:, 'emp'] > 1) & (dffnd.loc[:, 'fyear'] == 2011), :].assign(\\\n",
    "    netinc_emp = (dffnd.loc[:, 'netinc']*1000000)/(dffnd.loc[:, 'emp']*1000)).nlargest(1, 'netinc_emp').loc[:, ['tic']]"
   ]
  },
  {
   "cell_type": "code",
   "execution_count": null,
   "metadata": {},
   "outputs": [],
   "source": []
  }
 ],
 "metadata": {
  "kernelspec": {
   "display_name": "sql_env",
   "language": "python",
   "name": "python3"
  },
  "language_info": {
   "codemirror_mode": {
    "name": "ipython",
    "version": 3
   },
   "file_extension": ".py",
   "mimetype": "text/x-python",
   "name": "python",
   "nbconvert_exporter": "python",
   "pygments_lexer": "ipython3",
   "version": "3.11.2"
  },
  "orig_nbformat": 4,
  "vscode": {
   "interpreter": {
    "hash": "ff7854b9031ac828fb2e5f9f12e03f4b1412d0b96c4e2b9c268c6a5ab6e3d40e"
   }
  }
 },
 "nbformat": 4,
 "nbformat_minor": 2
}
